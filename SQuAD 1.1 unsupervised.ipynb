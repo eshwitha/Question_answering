{
 "cells": [
  {
   "cell_type": "code",
   "execution_count": 4,
   "metadata": {},
   "outputs": [
    {
     "name": "stdout",
     "output_type": "stream",
     "text": [
      "Collecting package metadata (current_repodata.json): ...working... done\n",
      "Solving environment: ...working... failed with initial frozen solve. Retrying with flexible solve.\n",
      "Solving environment: ...working... failed with repodata from current_repodata.json, will retry with next repodata source.\n",
      "Collecting package metadata (repodata.json): ...working... done\n",
      "Solving environment: ...working... done\n",
      "\n",
      "## Package Plan ##\n",
      "\n",
      "  environment location: C:\\Users\\User\\anaconda3\n",
      "\n",
      "  added / updated specs:\n",
      "    - spacy\n",
      "\n",
      "\n",
      "The following packages will be downloaded:\n",
      "\n",
      "    package                    |            build\n",
      "    ---------------------------|-----------------\n",
      "    aiohttp-3.7.4              |   py38h294d835_0         596 KB  conda-forge\n",
      "    async-timeout-3.0.1        |          py_1000          11 KB  conda-forge\n",
      "    boto3-1.17.56              |     pyhd8ed1ab_0          70 KB  conda-forge\n",
      "    botocore-1.20.56           |     pyhd8ed1ab_0         4.6 MB  conda-forge\n",
      "    bz2file-0.98               |             py_0           9 KB  conda-forge\n",
      "    cachetools-4.2.1           |     pyhd8ed1ab_0          13 KB  conda-forge\n",
      "    catalogue-2.0.3            |   py38haa244fe_0          31 KB  conda-forge\n",
      "    conda-4.10.1               |   py38haa244fe_0         3.1 MB  conda-forge\n",
      "    cymem-2.0.5                |   py38h885f38d_1          40 KB  conda-forge\n",
      "    cython-blis-0.7.4          |   py38h347fdf6_0         5.6 MB  conda-forge\n",
      "    dataclasses-0.8            |     pyhc8e2a94_1           7 KB  conda-forge\n",
      "    google-api-core-1.26.2     |     pyhd8ed1ab_0          59 KB  conda-forge\n",
      "    google-auth-1.25.0         |     pyh44b312d_0          63 KB  conda-forge\n",
      "    google-cloud-core-1.5.0    |     pyhd3deb0d_0          26 KB  conda-forge\n",
      "    google-cloud-storage-1.35.1|     pyh44b312d_0          66 KB  conda-forge\n",
      "    google-crc32c-1.1.2        |   py38h554a69a_0          27 KB  conda-forge\n",
      "    google-resumable-media-1.2.0|     pyhd3deb0d_0          40 KB  conda-forge\n",
      "    googleapis-common-protos-1.53.0|   py38h5b57dd5_0         125 KB  conda-forge\n",
      "    grpcio-1.34.0              |   py38he5377a8_0         1.9 MB  conda-forge\n",
      "    jmespath-0.10.0            |     pyh9f0ad1d_0          21 KB  conda-forge\n",
      "    libcrc32c-1.1.1            |       h0e60522_2          25 KB  conda-forge\n",
      "    libprotobuf-3.15.8         |       h7755175_0         2.3 MB  conda-forge\n",
      "    multidict-5.1.0            |   py38h294d835_1          63 KB  conda-forge\n",
      "    murmurhash-1.0.5           |   py38h885f38d_0          26 KB  conda-forge\n",
      "    openssl-1.1.1h             |       he774522_0         5.8 MB  conda-forge\n",
      "    pathy-0.5.0                |     pyhd8ed1ab_0          34 KB  conda-forge\n",
      "    preshed-3.0.5              |   py38h885f38d_0          97 KB  conda-forge\n",
      "    protobuf-3.15.8            |   py38h885f38d_0         261 KB  conda-forge\n",
      "    pyasn1-0.4.8               |             py_0          53 KB  conda-forge\n",
      "    pyasn1-modules-0.2.7       |             py_0          60 KB  conda-forge\n",
      "    pydantic-1.7.3             |   py38h294d835_1         164 KB  conda-forge\n",
      "    python_abi-3.8             |           1_cp38           4 KB  conda-forge\n",
      "    rsa-4.7.2                  |     pyh44b312d_0          28 KB  conda-forge\n",
      "    s3transfer-0.4.2           |     pyhd8ed1ab_0          55 KB  conda-forge\n",
      "    shellingham-1.4.0          |     pyh44b312d_0          11 KB  conda-forge\n",
      "    smart_open-2.2.1           |     pyh9f0ad1d_0          78 KB  conda-forge\n",
      "    spacy-3.0.5                |   py38h1266d08_0         9.2 MB  conda-forge\n",
      "    spacy-legacy-3.0.3         |     pyhd8ed1ab_0          14 KB  conda-forge\n",
      "    srsly-2.4.1                |   py38h885f38d_0         517 KB  conda-forge\n",
      "    thinc-8.0.3                |   py38h2f20550_0         927 KB  conda-forge\n",
      "    typer-0.3.2                |     pyhd8ed1ab_0          23 KB  conda-forge\n",
      "    typing-extensions-3.7.4.3  |                0           8 KB  conda-forge\n",
      "    wasabi-0.8.2               |     pyh44b312d_0          23 KB  conda-forge\n",
      "    yarl-1.5.1                 |   py38h1e8a9f7_0         136 KB  conda-forge\n",
      "    ------------------------------------------------------------\n",
      "                                           Total:        36.0 MB\n",
      "\n",
      "The following NEW packages will be INSTALLED:\n",
      "\n",
      "  aiohttp            conda-forge/win-64::aiohttp-3.7.4-py38h294d835_0\n",
      "  async-timeout      conda-forge/noarch::async-timeout-3.0.1-py_1000\n",
      "  boto3              conda-forge/noarch::boto3-1.17.56-pyhd8ed1ab_0\n",
      "  botocore           conda-forge/noarch::botocore-1.20.56-pyhd8ed1ab_0\n",
      "  bz2file            conda-forge/noarch::bz2file-0.98-py_0\n",
      "  cachetools         conda-forge/noarch::cachetools-4.2.1-pyhd8ed1ab_0\n",
      "  catalogue          conda-forge/win-64::catalogue-2.0.3-py38haa244fe_0\n",
      "  cymem              conda-forge/win-64::cymem-2.0.5-py38h885f38d_1\n",
      "  cython-blis        conda-forge/win-64::cython-blis-0.7.4-py38h347fdf6_0\n",
      "  dataclasses        conda-forge/noarch::dataclasses-0.8-pyhc8e2a94_1\n",
      "  google-api-core    conda-forge/noarch::google-api-core-1.26.2-pyhd8ed1ab_0\n",
      "  google-auth        conda-forge/noarch::google-auth-1.25.0-pyh44b312d_0\n",
      "  google-cloud-core  conda-forge/noarch::google-cloud-core-1.5.0-pyhd3deb0d_0\n",
      "  google-cloud-stor~ conda-forge/noarch::google-cloud-storage-1.35.1-pyh44b312d_0\n",
      "  google-crc32c      conda-forge/win-64::google-crc32c-1.1.2-py38h554a69a_0\n",
      "  google-resumable-~ conda-forge/noarch::google-resumable-media-1.2.0-pyhd3deb0d_0\n",
      "  googleapis-common~ conda-forge/win-64::googleapis-common-protos-1.53.0-py38h5b57dd5_0\n",
      "  grpcio             conda-forge/win-64::grpcio-1.34.0-py38he5377a8_0\n",
      "  jmespath           conda-forge/noarch::jmespath-0.10.0-pyh9f0ad1d_0\n",
      "  libcrc32c          conda-forge/win-64::libcrc32c-1.1.1-h0e60522_2\n",
      "  libprotobuf        conda-forge/win-64::libprotobuf-3.15.8-h7755175_0\n",
      "  multidict          conda-forge/win-64::multidict-5.1.0-py38h294d835_1\n",
      "  murmurhash         conda-forge/win-64::murmurhash-1.0.5-py38h885f38d_0\n",
      "  pathy              conda-forge/noarch::pathy-0.5.0-pyhd8ed1ab_0\n",
      "  preshed            conda-forge/win-64::preshed-3.0.5-py38h885f38d_0\n",
      "  protobuf           conda-forge/win-64::protobuf-3.15.8-py38h885f38d_0\n",
      "  pyasn1             conda-forge/noarch::pyasn1-0.4.8-py_0\n",
      "  pyasn1-modules     conda-forge/noarch::pyasn1-modules-0.2.7-py_0\n",
      "  pydantic           conda-forge/win-64::pydantic-1.7.3-py38h294d835_1\n",
      "  python_abi         conda-forge/win-64::python_abi-3.8-1_cp38\n",
      "  rsa                conda-forge/noarch::rsa-4.7.2-pyh44b312d_0\n",
      "  s3transfer         conda-forge/noarch::s3transfer-0.4.2-pyhd8ed1ab_0\n",
      "  shellingham        conda-forge/noarch::shellingham-1.4.0-pyh44b312d_0\n",
      "  smart_open         conda-forge/noarch::smart_open-2.2.1-pyh9f0ad1d_0\n",
      "  spacy              conda-forge/win-64::spacy-3.0.5-py38h1266d08_0\n",
      "  spacy-legacy       conda-forge/noarch::spacy-legacy-3.0.3-pyhd8ed1ab_0\n",
      "  srsly              conda-forge/win-64::srsly-2.4.1-py38h885f38d_0\n",
      "  thinc              conda-forge/win-64::thinc-8.0.3-py38h2f20550_0\n",
      "  typer              conda-forge/noarch::typer-0.3.2-pyhd8ed1ab_0\n",
      "  typing-extensions  conda-forge/noarch::typing-extensions-3.7.4.3-0\n",
      "  wasabi             conda-forge/noarch::wasabi-0.8.2-pyh44b312d_0\n",
      "  yarl               conda-forge/win-64::yarl-1.5.1-py38h1e8a9f7_0\n",
      "\n",
      "The following packages will be UPDATED:\n",
      "\n",
      "  conda               pkgs/main::conda-4.9.2-py38haa95532_0 --> conda-forge::conda-4.10.1-py38haa244fe_0\n",
      "\n",
      "The following packages will be SUPERSEDED by a higher-priority channel:\n",
      "\n",
      "  openssl                                         pkgs/main --> conda-forge\n",
      "\n",
      "\n",
      "\n",
      "Downloading and Extracting Packages\n",
      "\n",
      "dataclasses-0.8      | 7 KB      |            |   0% \n",
      "dataclasses-0.8      | 7 KB      | ########## | 100% \n",
      "dataclasses-0.8      | 7 KB      | ########## | 100% \n",
      "\n",
      "shellingham-1.4.0    | 11 KB     |            |   0% \n",
      "shellingham-1.4.0    | 11 KB     | ########## | 100% \n",
      "shellingham-1.4.0    | 11 KB     | ########## | 100% \n",
      "\n",
      "aiohttp-3.7.4        | 596 KB    |            |   0% \n",
      "aiohttp-3.7.4        | 596 KB    | 2          |   3% \n",
      "aiohttp-3.7.4        | 596 KB    | #8         |  19% \n",
      "aiohttp-3.7.4        | 596 KB    | ####5      |  46% \n",
      "aiohttp-3.7.4        | 596 KB    | #########1 |  91% \n",
      "aiohttp-3.7.4        | 596 KB    | ########## | 100% \n",
      "\n",
      "conda-4.10.1         | 3.1 MB    |            |   0% \n",
      "conda-4.10.1         | 3.1 MB    |            |   1% \n",
      "conda-4.10.1         | 3.1 MB    | 9          |  10% \n",
      "conda-4.10.1         | 3.1 MB    | ##         |  20% \n",
      "conda-4.10.1         | 3.1 MB    | ##3        |  24% \n",
      "conda-4.10.1         | 3.1 MB    | ####8      |  49% \n",
      "conda-4.10.1         | 3.1 MB    | #####7     |  58% \n",
      "conda-4.10.1         | 3.1 MB    | #######1   |  72% \n",
      "conda-4.10.1         | 3.1 MB    | ########7  |  87% \n",
      "conda-4.10.1         | 3.1 MB    | #########9 |  99% \n",
      "conda-4.10.1         | 3.1 MB    | ########## | 100% \n",
      "\n",
      "spacy-3.0.5          | 9.2 MB    |            |   0% \n",
      "spacy-3.0.5          | 9.2 MB    |            |   0% \n",
      "spacy-3.0.5          | 9.2 MB    | 5          |   6% \n",
      "spacy-3.0.5          | 9.2 MB    | #          |  10% \n",
      "spacy-3.0.5          | 9.2 MB    | #2         |  13% \n",
      "spacy-3.0.5          | 9.2 MB    | ##5        |  25% \n",
      "spacy-3.0.5          | 9.2 MB    | ###        |  31% \n",
      "spacy-3.0.5          | 9.2 MB    | ###4       |  35% \n",
      "spacy-3.0.5          | 9.2 MB    | ###8       |  39% \n",
      "spacy-3.0.5          | 9.2 MB    | ####4      |  44% \n",
      "spacy-3.0.5          | 9.2 MB    | ######     |  60% \n",
      "spacy-3.0.5          | 9.2 MB    | ######6    |  67% \n",
      "spacy-3.0.5          | 9.2 MB    | #######2   |  72% \n",
      "spacy-3.0.5          | 9.2 MB    | #######6   |  77% \n",
      "spacy-3.0.5          | 9.2 MB    | ########8  |  88% \n",
      "spacy-3.0.5          | 9.2 MB    | #########4 |  94% \n",
      "spacy-3.0.5          | 9.2 MB    | ########## | 100% \n",
      "spacy-3.0.5          | 9.2 MB    | ########## | 100% \n",
      "\n",
      "google-cloud-storage | 66 KB     |            |   0% \n",
      "google-cloud-storage | 66 KB     | ##4        |  24% \n",
      "google-cloud-storage | 66 KB     | ########## | 100% \n",
      "\n",
      "spacy-legacy-3.0.3   | 14 KB     |            |   0% \n",
      "spacy-legacy-3.0.3   | 14 KB     | ########## | 100% \n",
      "spacy-legacy-3.0.3   | 14 KB     | ########## | 100% \n",
      "\n",
      "pathy-0.5.0          | 34 KB     |            |   0% \n",
      "pathy-0.5.0          | 34 KB     | ####6      |  46% \n",
      "pathy-0.5.0          | 34 KB     | ########## | 100% \n",
      "pathy-0.5.0          | 34 KB     | ########## | 100% \n",
      "\n",
      "libprotobuf-3.15.8   | 2.3 MB    |            |   0% \n",
      "libprotobuf-3.15.8   | 2.3 MB    |            |   1% \n",
      "libprotobuf-3.15.8   | 2.3 MB    | ##7        |  28% \n",
      "libprotobuf-3.15.8   | 2.3 MB    | #####      |  50% \n",
      "libprotobuf-3.15.8   | 2.3 MB    | ######9    |  70% \n",
      "libprotobuf-3.15.8   | 2.3 MB    | #########5 |  95% \n",
      "libprotobuf-3.15.8   | 2.3 MB    | ########## | 100% \n",
      "\n",
      "pyasn1-modules-0.2.7 | 60 KB     |            |   0% \n",
      "pyasn1-modules-0.2.7 | 60 KB     | ##6        |  27% \n",
      "pyasn1-modules-0.2.7 | 60 KB     | ########## | 100% \n",
      "pyasn1-modules-0.2.7 | 60 KB     | ########## | 100% \n",
      "\n",
      "multidict-5.1.0      | 63 KB     |            |   0% \n",
      "multidict-5.1.0      | 63 KB     | ##5        |  26% \n",
      "multidict-5.1.0      | 63 KB     | ########## | 100% \n",
      "\n",
      "google-resumable-med | 40 KB     |            |   0% \n",
      "google-resumable-med | 40 KB     | ###9       |  40% \n",
      "google-resumable-med | 40 KB     | ########## | 100% \n",
      "\n",
      "typing-extensions-3. | 8 KB      |            |   0% \n",
      "typing-extensions-3. | 8 KB      | ########## | 100% \n",
      "typing-extensions-3. | 8 KB      | ########## | 100% \n",
      "\n",
      "googleapis-common-pr | 125 KB    |            |   0% \n",
      "googleapis-common-pr | 125 KB    | ###8       |  38% \n",
      "googleapis-common-pr | 125 KB    | ########## | 100% \n",
      "googleapis-common-pr | 125 KB    | ########## | 100% \n",
      "\n",
      "google-api-core-1.26 | 59 KB     |            |   0% \n",
      "google-api-core-1.26 | 59 KB     | ##7        |  27% \n",
      "google-api-core-1.26 | 59 KB     | ########## | 100% \n",
      "google-api-core-1.26 | 59 KB     | ########## | 100% \n",
      "\n",
      "google-cloud-core-1. | 26 KB     |            |   0% \n",
      "google-cloud-core-1. | 26 KB     | ######2    |  62% \n",
      "google-cloud-core-1. | 26 KB     | ########## | 100% \n",
      "\n",
      "rsa-4.7.2            | 28 KB     |            |   0% \n",
      "rsa-4.7.2            | 28 KB     | #####8     |  58% \n",
      "rsa-4.7.2            | 28 KB     | ########## | 100% \n",
      "\n",
      "thinc-8.0.3          | 927 KB    |            |   0% \n",
      "thinc-8.0.3          | 927 KB    | 1          |   2% \n",
      "thinc-8.0.3          | 927 KB    | ####1      |  41% \n",
      "thinc-8.0.3          | 927 KB    | #########3 |  93% \n",
      "thinc-8.0.3          | 927 KB    | ########## | 100% \n",
      "\n",
      "cymem-2.0.5          | 40 KB     |            |   0% \n",
      "cymem-2.0.5          | 40 KB     | ###9       |  40% \n",
      "cymem-2.0.5          | 40 KB     | ########## | 100% \n",
      "\n",
      "typer-0.3.2          | 23 KB     |            |   0% \n",
      "typer-0.3.2          | 23 KB     | #######    |  71% \n",
      "typer-0.3.2          | 23 KB     | ########## | 100% \n",
      "\n",
      "pyasn1-0.4.8         | 53 KB     |            |   0% \n",
      "pyasn1-0.4.8         | 53 KB     | ###        |  30% \n",
      "pyasn1-0.4.8         | 53 KB     | ########## | 100% \n",
      "\n",
      "wasabi-0.8.2         | 23 KB     |            |   0% \n",
      "wasabi-0.8.2         | 23 KB     | #######1   |  71% \n",
      "wasabi-0.8.2         | 23 KB     | ########## | 100% \n",
      "\n",
      "bz2file-0.98         | 9 KB      |            |   0% \n",
      "bz2file-0.98         | 9 KB      | ########## | 100% \n",
      "bz2file-0.98         | 9 KB      | ########## | 100% \n",
      "\n",
      "grpcio-1.34.0        | 1.9 MB    |            |   0% \n",
      "grpcio-1.34.0        | 1.9 MB    |            |   1% \n",
      "grpcio-1.34.0        | 1.9 MB    | #9         |  19% \n",
      "grpcio-1.34.0        | 1.9 MB    | ####2      |  42% \n",
      "grpcio-1.34.0        | 1.9 MB    | #######3   |  73% \n",
      "grpcio-1.34.0        | 1.9 MB    | ########8  |  88% \n",
      "grpcio-1.34.0        | 1.9 MB    | ########## | 100% \n",
      "\n",
      "google-auth-1.25.0   | 63 KB     |            |   0% \n",
      "google-auth-1.25.0   | 63 KB     | ##5        |  26% \n",
      "google-auth-1.25.0   | 63 KB     | #####1     |  51% \n",
      "google-auth-1.25.0   | 63 KB     | ########## | 100% \n",
      "google-auth-1.25.0   | 63 KB     | ########## | 100% \n",
      "\n",
      "preshed-3.0.5        | 97 KB     |            |   0% \n",
      "preshed-3.0.5        | 97 KB     | #6         |  17% \n",
      "preshed-3.0.5        | 97 KB     | ########## | 100% \n",
      "preshed-3.0.5        | 97 KB     | ########## | 100% \n",
      "\n",
      "protobuf-3.15.8      | 261 KB    |            |   0% \n",
      "protobuf-3.15.8      | 261 KB    | 6          |   6% \n",
      "protobuf-3.15.8      | 261 KB    | #######3   |  73% \n",
      "protobuf-3.15.8      | 261 KB    | ########## | 100% \n",
      "protobuf-3.15.8      | 261 KB    | ########## | 100% \n",
      "Note: you may need to restart the kernel to use updated packages.\n"
     ]
    },
    {
     "name": "stderr",
     "output_type": "stream",
     "text": [
      "\n",
      "\n",
      "==> WARNING: A newer version of conda exists. <==\n",
      "  current version: 4.9.2\n",
      "  latest version: 4.10.1\n",
      "\n",
      "Please update conda by running\n",
      "\n",
      "    $ conda update -n base -c defaults conda\n",
      "\n",
      "\n"
     ]
    },
    {
     "name": "stdout",
     "output_type": "stream",
     "text": [
      "\n",
      "\n",
      "catalogue-2.0.3      | 31 KB     |            |   0% \n",
      "catalogue-2.0.3      | 31 KB     | #####2     |  52% \n",
      "catalogue-2.0.3      | 31 KB     | ########## | 100% \n",
      "\n",
      "smart_open-2.2.1     | 78 KB     |            |   0% \n",
      "smart_open-2.2.1     | 78 KB     | ##         |  20% \n",
      "smart_open-2.2.1     | 78 KB     | ########## | 100% \n",
      "\n",
      "google-crc32c-1.1.2  | 27 KB     |            |   0% \n",
      "google-crc32c-1.1.2  | 27 KB     | #####9     |  59% \n",
      "google-crc32c-1.1.2  | 27 KB     | ########## | 100% \n",
      "\n",
      "yarl-1.5.1           | 136 KB    |            |   0% \n",
      "yarl-1.5.1           | 136 KB    | #1         |  12% \n",
      "yarl-1.5.1           | 136 KB    | ########## | 100% \n",
      "yarl-1.5.1           | 136 KB    | ########## | 100% \n",
      "\n",
      "srsly-2.4.1          | 517 KB    |            |   0% \n",
      "srsly-2.4.1          | 517 KB    | 3          |   3% \n",
      "srsly-2.4.1          | 517 KB    | ##7        |  28% \n",
      "srsly-2.4.1          | 517 KB    | ########6  |  87% \n",
      "srsly-2.4.1          | 517 KB    | ########## | 100% \n",
      "\n",
      "async-timeout-3.0.1  | 11 KB     |            |   0% \n",
      "async-timeout-3.0.1  | 11 KB     | ########## | 100% \n",
      "async-timeout-3.0.1  | 11 KB     | ########## | 100% \n",
      "\n",
      "jmespath-0.10.0      | 21 KB     |            |   0% \n",
      "jmespath-0.10.0      | 21 KB     | #######8   |  78% \n",
      "jmespath-0.10.0      | 21 KB     | ########## | 100% \n",
      "\n",
      "libcrc32c-1.1.1      | 25 KB     |            |   0% \n",
      "libcrc32c-1.1.1      | 25 KB     | ######3    |  64% \n",
      "libcrc32c-1.1.1      | 25 KB     | ########## | 100% \n",
      "\n",
      "openssl-1.1.1h       | 5.8 MB    |            |   0% \n",
      "openssl-1.1.1h       | 5.8 MB    |            |   0% \n",
      "openssl-1.1.1h       | 5.8 MB    | 4          |   4% \n",
      "openssl-1.1.1h       | 5.8 MB    | 7          |   7% \n",
      "openssl-1.1.1h       | 5.8 MB    | ##7        |  27% \n",
      "openssl-1.1.1h       | 5.8 MB    | ###3       |  33% \n",
      "openssl-1.1.1h       | 5.8 MB    | ####3      |  43% \n",
      "openssl-1.1.1h       | 5.8 MB    | ####9      |  50% \n",
      "openssl-1.1.1h       | 5.8 MB    | #####5     |  56% \n",
      "openssl-1.1.1h       | 5.8 MB    | #######    |  71% \n",
      "openssl-1.1.1h       | 5.8 MB    | #######7   |  77% \n",
      "openssl-1.1.1h       | 5.8 MB    | ########2  |  83% \n",
      "openssl-1.1.1h       | 5.8 MB    | #########  |  91% \n",
      "openssl-1.1.1h       | 5.8 MB    | #########8 |  99% \n",
      "openssl-1.1.1h       | 5.8 MB    | ########## | 100% \n",
      "\n",
      "cachetools-4.2.1     | 13 KB     |            |   0% \n",
      "cachetools-4.2.1     | 13 KB     | ########## | 100% \n",
      "cachetools-4.2.1     | 13 KB     | ########## | 100% \n",
      "\n",
      "pydantic-1.7.3       | 164 KB    |            |   0% \n",
      "pydantic-1.7.3       | 164 KB    | 9          |  10% \n",
      "pydantic-1.7.3       | 164 KB    | ########## | 100% \n",
      "pydantic-1.7.3       | 164 KB    | ########## | 100% \n",
      "\n",
      "botocore-1.20.56     | 4.6 MB    |            |   0% \n",
      "botocore-1.20.56     | 4.6 MB    |            |   0% \n",
      "botocore-1.20.56     | 4.6 MB    | 3          |   3% \n",
      "botocore-1.20.56     | 4.6 MB    | #4         |  15% \n",
      "botocore-1.20.56     | 4.6 MB    | #9         |  20% \n",
      "botocore-1.20.56     | 4.6 MB    | ##8        |  28% \n",
      "botocore-1.20.56     | 4.6 MB    | ###3       |  34% \n",
      "botocore-1.20.56     | 4.6 MB    | ###9       |  40% \n",
      "botocore-1.20.56     | 4.6 MB    | ####5      |  45% \n",
      "botocore-1.20.56     | 4.6 MB    | #####2     |  52% \n",
      "botocore-1.20.56     | 4.6 MB    | #####7     |  58% \n",
      "botocore-1.20.56     | 4.6 MB    | ######1    |  62% \n",
      "botocore-1.20.56     | 4.6 MB    | ########## | 100% \n",
      "botocore-1.20.56     | 4.6 MB    | ########## | 100% \n",
      "\n",
      "s3transfer-0.4.2     | 55 KB     |            |   0% \n",
      "s3transfer-0.4.2     | 55 KB     | ##9        |  29% \n",
      "s3transfer-0.4.2     | 55 KB     | ########## | 100% \n",
      "s3transfer-0.4.2     | 55 KB     | ########## | 100% \n",
      "\n",
      "boto3-1.17.56        | 70 KB     |            |   0% \n",
      "boto3-1.17.56        | 70 KB     | ##2        |  23% \n",
      "boto3-1.17.56        | 70 KB     | ########## | 100% \n",
      "boto3-1.17.56        | 70 KB     | ########## | 100% \n",
      "\n",
      "python_abi-3.8       | 4 KB      |            |   0% \n",
      "python_abi-3.8       | 4 KB      | ########## | 100% \n",
      "python_abi-3.8       | 4 KB      | ########## | 100% \n",
      "\n",
      "murmurhash-1.0.5     | 26 KB     |            |   0% \n",
      "murmurhash-1.0.5     | 26 KB     | ######1    |  62% \n",
      "murmurhash-1.0.5     | 26 KB     | ########## | 100% \n",
      "murmurhash-1.0.5     | 26 KB     | ########## | 100% \n",
      "\n",
      "cython-blis-0.7.4    | 5.6 MB    |            |   0% \n",
      "cython-blis-0.7.4    | 5.6 MB    |            |   0% \n",
      "cython-blis-0.7.4    | 5.6 MB    | 3          |   4% \n",
      "cython-blis-0.7.4    | 5.6 MB    | 6          |   7% \n",
      "cython-blis-0.7.4    | 5.6 MB    | #          |  11% \n",
      "cython-blis-0.7.4    | 5.6 MB    | #5         |  15% \n",
      "cython-blis-0.7.4    | 5.6 MB    | #8         |  19% \n",
      "cython-blis-0.7.4    | 5.6 MB    | ##3        |  23% \n",
      "cython-blis-0.7.4    | 5.6 MB    | ##6        |  27% \n",
      "cython-blis-0.7.4    | 5.6 MB    | ##9        |  30% \n",
      "cython-blis-0.7.4    | 5.6 MB    | ###4       |  35% \n",
      "cython-blis-0.7.4    | 5.6 MB    | ###7       |  38% \n",
      "cython-blis-0.7.4    | 5.6 MB    | ####1      |  42% \n",
      "cython-blis-0.7.4    | 5.6 MB    | ####5      |  46% \n",
      "cython-blis-0.7.4    | 5.6 MB    | ####8      |  49% \n",
      "cython-blis-0.7.4    | 5.6 MB    | #####1     |  52% \n",
      "cython-blis-0.7.4    | 5.6 MB    | #####6     |  56% \n",
      "cython-blis-0.7.4    | 5.6 MB    | ######1    |  61% \n",
      "cython-blis-0.7.4    | 5.6 MB    | ######5    |  65% \n",
      "cython-blis-0.7.4    | 5.6 MB    | ######8    |  69% \n",
      "cython-blis-0.7.4    | 5.6 MB    | #######1   |  72% \n",
      "cython-blis-0.7.4    | 5.6 MB    | #######7   |  77% \n",
      "cython-blis-0.7.4    | 5.6 MB    | ########   |  81% \n",
      "cython-blis-0.7.4    | 5.6 MB    | ########5  |  85% \n",
      "cython-blis-0.7.4    | 5.6 MB    | ########9  |  89% \n",
      "cython-blis-0.7.4    | 5.6 MB    | #########3 |  93% \n",
      "cython-blis-0.7.4    | 5.6 MB    | #########6 |  96% \n",
      "cython-blis-0.7.4    | 5.6 MB    | ########## | 100% \n",
      "cython-blis-0.7.4    | 5.6 MB    | ########## | 100% \n",
      "Preparing transaction: ...working... done\n",
      "Verifying transaction: ...working... done\n",
      "Executing transaction: ...working... done\n"
     ]
    }
   ],
   "source": [
    "conda install -c conda-forge spacy"
   ]
  },
  {
   "cell_type": "code",
   "execution_count": 1,
   "metadata": {},
   "outputs": [],
   "source": [
    "#import libraries required\n",
    "\n",
    "import numpy as np, pandas as pd\n",
    "import json\n",
    "import ast \n",
    "from textblob import TextBlob\n",
    "import nltk\n",
    "import torch\n",
    "import pickle\n",
    "from scipy import spatial\n",
    "import warnings\n",
    "warnings.filterwarnings('ignore')\n",
    "import spacy\n",
    "from nltk import Tree\n",
    "from nltk.stem.lancaster import LancasterStemmer\n",
    "st = LancasterStemmer()\n",
    "from sklearn.feature_extraction.text import TfidfVectorizer, TfidfTransformer"
   ]
  },
  {
   "cell_type": "code",
   "execution_count": 4,
   "metadata": {},
   "outputs": [],
   "source": [
    "train = pd.read_csv(\"train.csv\")"
   ]
  },
  {
   "cell_type": "code",
   "execution_count": 5,
   "metadata": {},
   "outputs": [
    {
     "data": {
      "text/plain": [
       "(87599, 4)"
      ]
     },
     "execution_count": 5,
     "metadata": {},
     "output_type": "execute_result"
    }
   ],
   "source": [
    "train.shape"
   ]
  },
  {
   "cell_type": "markdown",
   "metadata": {},
   "source": [
    "### Loading Embedding dictionary"
   ]
  },
  {
   "cell_type": "code",
   "execution_count": 6,
   "metadata": {},
   "outputs": [],
   "source": [
    "# opening sentence embeddings\n",
    "with open(\"dict_embeddings1.pickle\", \"rb\") as f:\n",
    "    d1 = pickle.load(f)"
   ]
  },
  {
   "cell_type": "code",
   "execution_count": 7,
   "metadata": {},
   "outputs": [],
   "source": [
    "with open(\"dict_embeddings2.pickle\", \"rb\") as f:\n",
    "    d2 = pickle.load(f)"
   ]
  },
  {
   "cell_type": "code",
   "execution_count": 8,
   "metadata": {},
   "outputs": [],
   "source": [
    "# adding to same dict\n",
    "dict_emb = dict(d1)\n",
    "dict_emb.update(d2)"
   ]
  },
  {
   "cell_type": "code",
   "execution_count": 9,
   "metadata": {},
   "outputs": [
    {
     "data": {
      "text/plain": [
       "60130"
      ]
     },
     "execution_count": 9,
     "metadata": {},
     "output_type": "execute_result"
    }
   ],
   "source": [
    "len(dict_emb)"
   ]
  },
  {
   "cell_type": "code",
   "execution_count": 10,
   "metadata": {},
   "outputs": [],
   "source": [
    "del d1, d2"
   ]
  },
  {
   "cell_type": "markdown",
   "metadata": {},
   "source": [
    "## Data Processing"
   ]
  },
  {
   "cell_type": "code",
   "execution_count": 11,
   "metadata": {},
   "outputs": [],
   "source": [
    "# if ans is in that sentence return sent index\n",
    "def get_target(x):\n",
    "    idx = -1\n",
    "    for i in range(len(x[\"sentences\"])):\n",
    "        if x[\"text\"] in x[\"sentences\"][i]: \n",
    "            idx = i\n",
    "    return idx"
   ]
  },
  {
   "cell_type": "code",
   "execution_count": 12,
   "metadata": {},
   "outputs": [
    {
     "data": {
      "text/html": [
       "<div>\n",
       "<style scoped>\n",
       "    .dataframe tbody tr th:only-of-type {\n",
       "        vertical-align: middle;\n",
       "    }\n",
       "\n",
       "    .dataframe tbody tr th {\n",
       "        vertical-align: top;\n",
       "    }\n",
       "\n",
       "    .dataframe thead th {\n",
       "        text-align: right;\n",
       "    }\n",
       "</style>\n",
       "<table border=\"1\" class=\"dataframe\">\n",
       "  <thead>\n",
       "    <tr style=\"text-align: right;\">\n",
       "      <th></th>\n",
       "      <th>Context</th>\n",
       "      <th>Question</th>\n",
       "      <th>Answer Start Index</th>\n",
       "      <th>Answer Text</th>\n",
       "    </tr>\n",
       "  </thead>\n",
       "  <tbody>\n",
       "    <tr>\n",
       "      <th>0</th>\n",
       "      <td>Architecturally, the school has a Catholic cha...</td>\n",
       "      <td>To whom did the Virgin Mary allegedly appear i...</td>\n",
       "      <td>515</td>\n",
       "      <td>Saint Bernadette Soubirous</td>\n",
       "    </tr>\n",
       "    <tr>\n",
       "      <th>1</th>\n",
       "      <td>Architecturally, the school has a Catholic cha...</td>\n",
       "      <td>What is in front of the Notre Dame Main Building?</td>\n",
       "      <td>188</td>\n",
       "      <td>a copper statue of Christ</td>\n",
       "    </tr>\n",
       "    <tr>\n",
       "      <th>2</th>\n",
       "      <td>Architecturally, the school has a Catholic cha...</td>\n",
       "      <td>The Basilica of the Sacred heart at Notre Dame...</td>\n",
       "      <td>279</td>\n",
       "      <td>the Main Building</td>\n",
       "    </tr>\n",
       "  </tbody>\n",
       "</table>\n",
       "</div>"
      ],
      "text/plain": [
       "                                             Context  \\\n",
       "0  Architecturally, the school has a Catholic cha...   \n",
       "1  Architecturally, the school has a Catholic cha...   \n",
       "2  Architecturally, the school has a Catholic cha...   \n",
       "\n",
       "                                            Question  Answer Start Index  \\\n",
       "0  To whom did the Virgin Mary allegedly appear i...                 515   \n",
       "1  What is in front of the Notre Dame Main Building?                 188   \n",
       "2  The Basilica of the Sacred heart at Notre Dame...                 279   \n",
       "\n",
       "                  Answer Text  \n",
       "0  Saint Bernadette Soubirous  \n",
       "1   a copper statue of Christ  \n",
       "2           the Main Building  "
      ]
     },
     "execution_count": 12,
     "metadata": {},
     "output_type": "execute_result"
    }
   ],
   "source": [
    "train.head(3)"
   ]
  },
  {
   "cell_type": "code",
   "execution_count": 13,
   "metadata": {},
   "outputs": [
    {
     "data": {
      "text/plain": [
       "(87599, 4)"
      ]
     },
     "execution_count": 13,
     "metadata": {},
     "output_type": "execute_result"
    }
   ],
   "source": [
    "train.shape"
   ]
  },
  {
   "cell_type": "code",
   "execution_count": 14,
   "metadata": {},
   "outputs": [],
   "source": [
    "# remove rows, cols with missing values\n",
    "train.dropna(inplace=True)"
   ]
  },
  {
   "cell_type": "code",
   "execution_count": 15,
   "metadata": {},
   "outputs": [
    {
     "data": {
      "text/plain": [
       "(87598, 4)"
      ]
     },
     "execution_count": 15,
     "metadata": {},
     "output_type": "execute_result"
    }
   ],
   "source": [
    "train.shape"
   ]
  },
  {
   "cell_type": "code",
   "execution_count": 16,
   "metadata": {},
   "outputs": [
    {
     "data": {
      "text/plain": [
       "pandas.core.frame.DataFrame"
      ]
     },
     "execution_count": 16,
     "metadata": {},
     "output_type": "execute_result"
    }
   ],
   "source": [
    "type(train)"
   ]
  },
  {
   "cell_type": "code",
   "execution_count": 17,
   "metadata": {},
   "outputs": [],
   "source": [
    "col_names = train.columns.values"
   ]
  },
  {
   "cell_type": "code",
   "execution_count": 18,
   "metadata": {},
   "outputs": [
    {
     "data": {
      "text/plain": [
       "array(['Context', 'Question', 'Answer Start Index', 'Answer Text'],\n",
       "      dtype=object)"
      ]
     },
     "execution_count": 18,
     "metadata": {},
     "output_type": "execute_result"
    }
   ],
   "source": [
    "col_names"
   ]
  },
  {
   "cell_type": "code",
   "execution_count": 20,
   "metadata": {},
   "outputs": [],
   "source": [
    "train.columns = ['context', 'question', 'answer_start', 'text']"
   ]
  },
  {
   "cell_type": "code",
   "execution_count": 21,
   "metadata": {},
   "outputs": [
    {
     "data": {
      "text/plain": [
       "array(['context', 'question', 'answer_start', 'text'], dtype=object)"
      ]
     },
     "execution_count": 21,
     "metadata": {},
     "output_type": "execute_result"
    }
   ],
   "source": [
    "train.columns.values"
   ]
  },
  {
   "cell_type": "code",
   "execution_count": 22,
   "metadata": {},
   "outputs": [],
   "source": [
    "def process_data(train):\n",
    "    \n",
    "    print(\"step 1\")\n",
    "    train['sentences'] = train['context'].apply(lambda x: [item.raw for item in TextBlob(x).sentences])\n",
    "    \n",
    "    print(\"step 2\")\n",
    "    train['target'] = train.apply(get_target, axis = 1)\n",
    "    \n",
    "    print(\"step 3\")\n",
    "    train['sent_emb'] = train['sentences'].apply(lambda x: [dict_emb[item][0] if item in\\\n",
    "                                                           dict_emb else np.zeros(4096) for item in x])\n",
    "    print(\"step 4\")\n",
    "    train['quest_emb'] = train['question'].apply(lambda x: dict_emb[x] if x in dict_emb else np.zeros(4096) )\n",
    "        \n",
    "    return train   "
   ]
  },
  {
   "cell_type": "code",
   "execution_count": 23,
   "metadata": {
    "scrolled": true
   },
   "outputs": [
    {
     "name": "stdout",
     "output_type": "stream",
     "text": [
      "step 1\n",
      "step 2\n",
      "step 3\n",
      "step 4\n"
     ]
    }
   ],
   "source": [
    "train = process_data(train)"
   ]
  },
  {
   "cell_type": "code",
   "execution_count": 24,
   "metadata": {},
   "outputs": [
    {
     "data": {
      "text/html": [
       "<div>\n",
       "<style scoped>\n",
       "    .dataframe tbody tr th:only-of-type {\n",
       "        vertical-align: middle;\n",
       "    }\n",
       "\n",
       "    .dataframe tbody tr th {\n",
       "        vertical-align: top;\n",
       "    }\n",
       "\n",
       "    .dataframe thead th {\n",
       "        text-align: right;\n",
       "    }\n",
       "</style>\n",
       "<table border=\"1\" class=\"dataframe\">\n",
       "  <thead>\n",
       "    <tr style=\"text-align: right;\">\n",
       "      <th></th>\n",
       "      <th>context</th>\n",
       "      <th>question</th>\n",
       "      <th>answer_start</th>\n",
       "      <th>text</th>\n",
       "      <th>sentences</th>\n",
       "      <th>target</th>\n",
       "      <th>sent_emb</th>\n",
       "      <th>quest_emb</th>\n",
       "    </tr>\n",
       "  </thead>\n",
       "  <tbody>\n",
       "    <tr>\n",
       "      <th>0</th>\n",
       "      <td>Architecturally, the school has a Catholic cha...</td>\n",
       "      <td>To whom did the Virgin Mary allegedly appear i...</td>\n",
       "      <td>515</td>\n",
       "      <td>Saint Bernadette Soubirous</td>\n",
       "      <td>[Architecturally, the school has a Catholic ch...</td>\n",
       "      <td>5</td>\n",
       "      <td>[[0.055199962, 0.05013141, 0.04787038, 0.01624...</td>\n",
       "      <td>[[0.110100806, 0.11422941, 0.11560897, 0.05489...</td>\n",
       "    </tr>\n",
       "    <tr>\n",
       "      <th>1</th>\n",
       "      <td>Architecturally, the school has a Catholic cha...</td>\n",
       "      <td>What is in front of the Notre Dame Main Building?</td>\n",
       "      <td>188</td>\n",
       "      <td>a copper statue of Christ</td>\n",
       "      <td>[Architecturally, the school has a Catholic ch...</td>\n",
       "      <td>2</td>\n",
       "      <td>[[0.055199962, 0.05013141, 0.04787038, 0.01624...</td>\n",
       "      <td>[[0.10951651, 0.11030623, 0.052100062, 0.03053...</td>\n",
       "    </tr>\n",
       "    <tr>\n",
       "      <th>2</th>\n",
       "      <td>Architecturally, the school has a Catholic cha...</td>\n",
       "      <td>The Basilica of the Sacred heart at Notre Dame...</td>\n",
       "      <td>279</td>\n",
       "      <td>the Main Building</td>\n",
       "      <td>[Architecturally, the school has a Catholic ch...</td>\n",
       "      <td>3</td>\n",
       "      <td>[[0.055199962, 0.05013141, 0.04787038, 0.01624...</td>\n",
       "      <td>[[0.011956477, 0.14930709, 0.026600504, 0.0527...</td>\n",
       "    </tr>\n",
       "  </tbody>\n",
       "</table>\n",
       "</div>"
      ],
      "text/plain": [
       "                                             context  \\\n",
       "0  Architecturally, the school has a Catholic cha...   \n",
       "1  Architecturally, the school has a Catholic cha...   \n",
       "2  Architecturally, the school has a Catholic cha...   \n",
       "\n",
       "                                            question  answer_start  \\\n",
       "0  To whom did the Virgin Mary allegedly appear i...           515   \n",
       "1  What is in front of the Notre Dame Main Building?           188   \n",
       "2  The Basilica of the Sacred heart at Notre Dame...           279   \n",
       "\n",
       "                         text  \\\n",
       "0  Saint Bernadette Soubirous   \n",
       "1   a copper statue of Christ   \n",
       "2           the Main Building   \n",
       "\n",
       "                                           sentences  target  \\\n",
       "0  [Architecturally, the school has a Catholic ch...       5   \n",
       "1  [Architecturally, the school has a Catholic ch...       2   \n",
       "2  [Architecturally, the school has a Catholic ch...       3   \n",
       "\n",
       "                                            sent_emb  \\\n",
       "0  [[0.055199962, 0.05013141, 0.04787038, 0.01624...   \n",
       "1  [[0.055199962, 0.05013141, 0.04787038, 0.01624...   \n",
       "2  [[0.055199962, 0.05013141, 0.04787038, 0.01624...   \n",
       "\n",
       "                                           quest_emb  \n",
       "0  [[0.110100806, 0.11422941, 0.11560897, 0.05489...  \n",
       "1  [[0.10951651, 0.11030623, 0.052100062, 0.03053...  \n",
       "2  [[0.011956477, 0.14930709, 0.026600504, 0.0527...  "
      ]
     },
     "execution_count": 24,
     "metadata": {},
     "output_type": "execute_result"
    }
   ],
   "source": [
    "train.head(3)"
   ]
  },
  {
   "cell_type": "markdown",
   "metadata": {},
   "source": [
    "## Predicted Index based on Cosine Similarity & Euclidean Distance"
   ]
  },
  {
   "cell_type": "code",
   "execution_count": 25,
   "metadata": {},
   "outputs": [],
   "source": [
    "# finding spatial dist b/w emb using cosine similarity\n",
    "def cosine_sim(x):\n",
    "    li = []\n",
    "    for item in x[\"sent_emb\"]:\n",
    "        li.append(spatial.distance.cosine(item,x[\"quest_emb\"][0]))\n",
    "    return li   "
   ]
  },
  {
   "cell_type": "code",
   "execution_count": 26,
   "metadata": {},
   "outputs": [],
   "source": [
    "# return min dist index\n",
    "def pred_idx(distances):\n",
    "    return np.argmin(distances)   "
   ]
  },
  {
   "cell_type": "code",
   "execution_count": 31,
   "metadata": {},
   "outputs": [
    {
     "data": {
      "text/plain": [
       "87598"
      ]
     },
     "execution_count": 31,
     "metadata": {},
     "output_type": "execute_result"
    }
   ],
   "source": [
    "len(train)"
   ]
  },
  {
   "cell_type": "code",
   "execution_count": 33,
   "metadata": {},
   "outputs": [],
   "source": [
    "# making predictions for first 100 observations\n",
    "train_1 = train.head(100)"
   ]
  },
  {
   "cell_type": "code",
   "execution_count": 34,
   "metadata": {},
   "outputs": [],
   "source": [
    "# based on cosine similarity and euclidean dt, find the \n",
    "# sentence close to the question and return its index\n",
    "def predictions(train):\n",
    "    \n",
    "    train[\"cosine_sim\"] = train.apply(cosine_sim, axis = 1)\n",
    "    train[\"diff\"] = (train[\"quest_emb\"] - train[\"sent_emb\"])**2\n",
    "    train[\"euclidean_dis\"] = train[\"diff\"].apply(lambda x: list(np.sum(x, axis = 1)))\n",
    "    del train[\"diff\"]\n",
    "    \n",
    "    print(\"cosine start\")\n",
    "    \n",
    "    train[\"pred_idx_cos\"] = train[\"cosine_sim\"].apply(lambda x: pred_idx(x))\n",
    "    train[\"pred_idx_euc\"] = train[\"euclidean_dis\"].apply(lambda x: pred_idx(x))\n",
    "    \n",
    "    return train\n",
    "    "
   ]
  },
  {
   "cell_type": "code",
   "execution_count": 35,
   "metadata": {},
   "outputs": [
    {
     "name": "stdout",
     "output_type": "stream",
     "text": [
      "cosine start\n"
     ]
    }
   ],
   "source": [
    "predicted = predictions(train_1)"
   ]
  },
  {
   "cell_type": "code",
   "execution_count": 36,
   "metadata": {},
   "outputs": [
    {
     "data": {
      "text/html": [
       "<div>\n",
       "<style scoped>\n",
       "    .dataframe tbody tr th:only-of-type {\n",
       "        vertical-align: middle;\n",
       "    }\n",
       "\n",
       "    .dataframe tbody tr th {\n",
       "        vertical-align: top;\n",
       "    }\n",
       "\n",
       "    .dataframe thead th {\n",
       "        text-align: right;\n",
       "    }\n",
       "</style>\n",
       "<table border=\"1\" class=\"dataframe\">\n",
       "  <thead>\n",
       "    <tr style=\"text-align: right;\">\n",
       "      <th></th>\n",
       "      <th>context</th>\n",
       "      <th>question</th>\n",
       "      <th>answer_start</th>\n",
       "      <th>text</th>\n",
       "      <th>sentences</th>\n",
       "      <th>target</th>\n",
       "      <th>sent_emb</th>\n",
       "      <th>quest_emb</th>\n",
       "      <th>cosine_sim</th>\n",
       "      <th>euclidean_dis</th>\n",
       "      <th>pred_idx_cos</th>\n",
       "      <th>pred_idx_euc</th>\n",
       "    </tr>\n",
       "  </thead>\n",
       "  <tbody>\n",
       "    <tr>\n",
       "      <th>0</th>\n",
       "      <td>Architecturally, the school has a Catholic cha...</td>\n",
       "      <td>To whom did the Virgin Mary allegedly appear i...</td>\n",
       "      <td>515</td>\n",
       "      <td>Saint Bernadette Soubirous</td>\n",
       "      <td>[Architecturally, the school has a Catholic ch...</td>\n",
       "      <td>5</td>\n",
       "      <td>[[0.055199962, 0.05013141, 0.04787038, 0.01624...</td>\n",
       "      <td>[[0.110100806, 0.11422941, 0.11560897, 0.05489...</td>\n",
       "      <td>[0.42473626136779785, 0.364050030708313, 0.347...</td>\n",
       "      <td>[14.563858, 15.262213, 17.398178, 14.272491, 1...</td>\n",
       "      <td>5</td>\n",
       "      <td>5</td>\n",
       "    </tr>\n",
       "    <tr>\n",
       "      <th>1</th>\n",
       "      <td>Architecturally, the school has a Catholic cha...</td>\n",
       "      <td>What is in front of the Notre Dame Main Building?</td>\n",
       "      <td>188</td>\n",
       "      <td>a copper statue of Christ</td>\n",
       "      <td>[Architecturally, the school has a Catholic ch...</td>\n",
       "      <td>2</td>\n",
       "      <td>[[0.055199962, 0.05013141, 0.04787038, 0.01624...</td>\n",
       "      <td>[[0.10951651, 0.11030623, 0.052100062, 0.03053...</td>\n",
       "      <td>[0.4540746212005615, 0.32262009382247925, 0.35...</td>\n",
       "      <td>[12.889506, 12.285219, 16.843704, 8.361172, 11...</td>\n",
       "      <td>3</td>\n",
       "      <td>3</td>\n",
       "    </tr>\n",
       "    <tr>\n",
       "      <th>2</th>\n",
       "      <td>Architecturally, the school has a Catholic cha...</td>\n",
       "      <td>The Basilica of the Sacred heart at Notre Dame...</td>\n",
       "      <td>279</td>\n",
       "      <td>the Main Building</td>\n",
       "      <td>[Architecturally, the school has a Catholic ch...</td>\n",
       "      <td>3</td>\n",
       "      <td>[[0.055199962, 0.05013141, 0.04787038, 0.01624...</td>\n",
       "      <td>[[0.011956477, 0.14930709, 0.026600504, 0.0527...</td>\n",
       "      <td>[0.3958578109741211, 0.2917083501815796, 0.309...</td>\n",
       "      <td>[11.857297, 11.392319, 15.061656, 7.1847134, 8...</td>\n",
       "      <td>3</td>\n",
       "      <td>3</td>\n",
       "    </tr>\n",
       "  </tbody>\n",
       "</table>\n",
       "</div>"
      ],
      "text/plain": [
       "                                             context  \\\n",
       "0  Architecturally, the school has a Catholic cha...   \n",
       "1  Architecturally, the school has a Catholic cha...   \n",
       "2  Architecturally, the school has a Catholic cha...   \n",
       "\n",
       "                                            question  answer_start  \\\n",
       "0  To whom did the Virgin Mary allegedly appear i...           515   \n",
       "1  What is in front of the Notre Dame Main Building?           188   \n",
       "2  The Basilica of the Sacred heart at Notre Dame...           279   \n",
       "\n",
       "                         text  \\\n",
       "0  Saint Bernadette Soubirous   \n",
       "1   a copper statue of Christ   \n",
       "2           the Main Building   \n",
       "\n",
       "                                           sentences  target  \\\n",
       "0  [Architecturally, the school has a Catholic ch...       5   \n",
       "1  [Architecturally, the school has a Catholic ch...       2   \n",
       "2  [Architecturally, the school has a Catholic ch...       3   \n",
       "\n",
       "                                            sent_emb  \\\n",
       "0  [[0.055199962, 0.05013141, 0.04787038, 0.01624...   \n",
       "1  [[0.055199962, 0.05013141, 0.04787038, 0.01624...   \n",
       "2  [[0.055199962, 0.05013141, 0.04787038, 0.01624...   \n",
       "\n",
       "                                           quest_emb  \\\n",
       "0  [[0.110100806, 0.11422941, 0.11560897, 0.05489...   \n",
       "1  [[0.10951651, 0.11030623, 0.052100062, 0.03053...   \n",
       "2  [[0.011956477, 0.14930709, 0.026600504, 0.0527...   \n",
       "\n",
       "                                          cosine_sim  \\\n",
       "0  [0.42473626136779785, 0.364050030708313, 0.347...   \n",
       "1  [0.4540746212005615, 0.32262009382247925, 0.35...   \n",
       "2  [0.3958578109741211, 0.2917083501815796, 0.309...   \n",
       "\n",
       "                                       euclidean_dis  pred_idx_cos  \\\n",
       "0  [14.563858, 15.262213, 17.398178, 14.272491, 1...             5   \n",
       "1  [12.889506, 12.285219, 16.843704, 8.361172, 11...             3   \n",
       "2  [11.857297, 11.392319, 15.061656, 7.1847134, 8...             3   \n",
       "\n",
       "   pred_idx_euc  \n",
       "0             5  \n",
       "1             3  \n",
       "2             3  "
      ]
     },
     "execution_count": 36,
     "metadata": {},
     "output_type": "execute_result"
    }
   ],
   "source": [
    "predicted.head(3)"
   ]
  },
  {
   "cell_type": "code",
   "execution_count": 37,
   "metadata": {},
   "outputs": [
    {
     "data": {
      "text/plain": [
       "[0.42473626136779785,\n",
       " 0.364050030708313,\n",
       " 0.3477550148963928,\n",
       " 0.3942415714263916,\n",
       " 0.3710247278213501,\n",
       " 0.18569022417068481,\n",
       " 0.3519207835197449]"
      ]
     },
     "execution_count": 37,
     "metadata": {},
     "output_type": "execute_result"
    }
   ],
   "source": [
    "predicted[\"cosine_sim\"][0]"
   ]
  },
  {
   "cell_type": "code",
   "execution_count": 38,
   "metadata": {},
   "outputs": [
    {
     "data": {
      "text/plain": [
       "[14.563858, 15.262213, 17.398178, 14.272491, 13.339654, 9.336262, 15.720997]"
      ]
     },
     "execution_count": 38,
     "metadata": {},
     "output_type": "execute_result"
    }
   ],
   "source": [
    "predicted[\"euclidean_dis\"][0]"
   ]
  },
  {
   "cell_type": "markdown",
   "metadata": {},
   "source": [
    "## Accuracy"
   ]
  },
  {
   "cell_type": "code",
   "execution_count": 39,
   "metadata": {},
   "outputs": [],
   "source": [
    "def accuracy(target, predicted):\n",
    "    \n",
    "    acc = (target==predicted).sum()/len(target)\n",
    "    \n",
    "    return acc"
   ]
  },
  {
   "cell_type": "markdown",
   "metadata": {},
   "source": [
    "### Accuracy for  euclidean Distance"
   ]
  },
  {
   "cell_type": "code",
   "execution_count": 40,
   "metadata": {},
   "outputs": [
    {
     "name": "stdout",
     "output_type": "stream",
     "text": [
      "0.4\n"
     ]
    }
   ],
   "source": [
    "print(accuracy(predicted[\"target\"], predicted[\"pred_idx_euc\"]))"
   ]
  },
  {
   "cell_type": "markdown",
   "metadata": {},
   "source": [
    "### Accuracy for Cosine Similarity"
   ]
  },
  {
   "cell_type": "code",
   "execution_count": 41,
   "metadata": {},
   "outputs": [
    {
     "name": "stdout",
     "output_type": "stream",
     "text": [
      "0.54\n"
     ]
    }
   ],
   "source": [
    "print(accuracy(predicted[\"target\"], predicted[\"pred_idx_cos\"]))"
   ]
  },
  {
   "cell_type": "code",
   "execution_count": 42,
   "metadata": {},
   "outputs": [],
   "source": [
    "predicted.to_csv(\"train_detect_sent.csv\", index=None)"
   ]
  },
  {
   "cell_type": "code",
   "execution_count": 44,
   "metadata": {},
   "outputs": [
    {
     "data": {
      "text/plain": [
       "context          In 1882, Albert Zahm (John Zahm's brother) bui...\n",
       "question         In what year did Albert Zahm begin comparing a...\n",
       "answer_start                                                     3\n",
       "text                                                          1882\n",
       "sentences        [In 1882, Albert Zahm (John Zahm's brother) bu...\n",
       "target                                                           0\n",
       "sent_emb         [[0.065336294, 0.12845865, 0.13129659, 0.04857...\n",
       "quest_emb        [[0.04265439, 0.09784849, 0.06059308, 0.097728...\n",
       "cosine_sim       [0.25258445739746094, 0.3153684139251709, 0.31...\n",
       "euclidean_dis          [12.38398, 13.868473, 14.315843, 14.349607]\n",
       "pred_idx_cos                                                     0\n",
       "pred_idx_euc                                                     0\n",
       "Name: 54, dtype: object"
      ]
     },
     "execution_count": 44,
     "metadata": {},
     "output_type": "execute_result"
    }
   ],
   "source": [
    "predicted.iloc[54,:]"
   ]
  },
  {
   "cell_type": "code",
   "execution_count": null,
   "metadata": {
    "collapsed": true
   },
   "outputs": [],
   "source": []
  }
 ],
 "metadata": {
  "hide_input": false,
  "kernelspec": {
   "display_name": "Python 3",
   "language": "python",
   "name": "python3"
  },
  "language_info": {
   "codemirror_mode": {
    "name": "ipython",
    "version": 3
   },
   "file_extension": ".py",
   "mimetype": "text/x-python",
   "name": "python",
   "nbconvert_exporter": "python",
   "pygments_lexer": "ipython3",
   "version": "3.7.6"
  }
 },
 "nbformat": 4,
 "nbformat_minor": 2
}
